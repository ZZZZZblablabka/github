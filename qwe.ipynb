{
 "cells": [
  {
   "cell_type": "code",
   "execution_count": null,
   "metadata": {},
   "outputs": [],
   "source": [
    "from matplotlib import pyplot as plt\n",
    "import numpy as np\n",
    "x,y = np.random.random(1000),np.random.random(1000)\n",
    "M,N = 2,2\n",
    "def f0(x):\n",
    "    return (N*x)%1\n",
    "def f1(x):\n",
    "    index = np.random.randint(1,M+1)\n",
    "    return (x+index-1)/M\n",
    "def f(x):\n",
    "    index = np.random.randint(0,2)\n",
    "    return f1(x) if index else f0(x)\n",
    "def two_points(xx,yy):\n",
    "    return np.array([f(x) for x in xx]),np.array([f(y) for y in yy])"
   ]
  }
 ],
 "metadata": {
  "language_info": {
   "name": "python"
  },
  "orig_nbformat": 4
 },
 "nbformat": 4,
 "nbformat_minor": 2
}
